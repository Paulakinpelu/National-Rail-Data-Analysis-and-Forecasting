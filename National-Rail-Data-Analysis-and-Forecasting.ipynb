import pandas as pd

# Load the dataset
file_path = 'railway.csv'
data = pd.read_csv(file_path)

# Display the first few rows and summary information
data_info = data.info()
data_head = data.head()

data_info, data_head
